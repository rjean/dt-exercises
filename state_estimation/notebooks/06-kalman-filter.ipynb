{
 "cells": [
  {
   "cell_type": "code",
   "execution_count": 1,
   "metadata": {},
   "outputs": [],
   "source": [
    "%matplotlib inline\n",
    "import time\n",
    "import numpy as np\n",
    "import matplotlib.pyplot as plt"
   ]
  },
  {
   "cell_type": "markdown",
   "metadata": {},
   "source": [
    "# Kalman filter"
   ]
  },
  {
   "cell_type": "markdown",
   "metadata": {},
   "source": [
    "Kalman filter (KF) is perhaps one of the most used state estimation algorithm in robotics applications. In the real world, we may already know the dynamics of the robot that allows us to know how the state of the robot evolves over time given the initial state. Unfortunately, we always have to deal with imperfect (i.e., noisy) dynamics for various reasons (e.g., imperfect parts, etc.).\n",
    "\n",
    "Robots typically have various sensors, and we can use these sensors to also help in estimating the state of the robot. However, sensors are also not perfect and can only provide a rough estimate of the robot state. Can we combine the data from our sensors with other models (e.g., dynamics) that we already have to better estimate the robot state? This is where KF can help us. If we have a new data about the state of the robot, whether it is good or bad, as long as it is somewhat informative, we can use this new information and combine it with what we already have to make a better estimate!\n",
    "\n",
    "Recall that in KF, we assume:\n",
    "1. Linear dynamics with Gaussian noise $\\mathbf{x}_{t} = A \\mathbf{x}_{t-1} + B \\mathbf{u}_{t-1} + \\mathbf{w}_{t}$ where $\\mathbf{w}_{t} \\sim \\mathcal{N}(0, Q)$\n",
    "2. Linear measurement model with Gaussian noise $\\mathbf{z}_t = H \\mathbf{x}_t + \\mathbf{n}_t$ where $\\mathbf{n}_t \\sim \\mathcal{N}(0, R)$\n",
    "3. Gaussian prior $bel(\\mathbf{x}_0) \\sim \\mathcal{N}(\\mu_0, \\Sigma_0)$\n",
    "\n",
    "In class, we have derived the KF and summarized that there are two main steps that we need to perform: prediction and update steps.\n",
    "\n",
    "Prediction step (i.e., getting $\\bar{bel}(\\mathbf{x}_{t}) \\sim \\mathcal{N}(\\mu_{t|t-1}, \\Sigma_{t|t-1}) $):\n",
    "1. $\\mu_{t|t-1} = A\\mu_{t-1|t-1} + B\\mathbf{u}_{t-1}$\n",
    "2. $\\Sigma_{t|t-1} = A\\Sigma_{t-1|t-1}A^T + Q$\n",
    "\n",
    "Update step:\n",
    "1. Get measurement $\\mathbf{z}_{t}$\n",
    "2. Compute mean and covariance of the prediction residual $\\delta_{\\mu} = \\mathbf{z}_{t} - H\\mu_{t|t-1}$ and $\\delta_{\\Sigma} = H \\Sigma_{t|t-1} H^T + R$\n",
    "3. Compute Kalman gain $K_{t} = \\Sigma_{t|t-1} H^T \\delta_{\\Sigma}^{-1}$\n",
    "4. Compute mean and covariance of the belief $\\mu_{t | t} = \\mu_{t | t-1} + K\\delta_{\\mu}$ and $\\Sigma_{t | t} = \\Sigma_{t|t-1} - KH\\Sigma_{t|t-1}$\n"
   ]
  },
  {
   "cell_type": "markdown",
   "metadata": {},
   "source": [
    "**Example: estimating robot position with KF**\n",
    "\n",
    "Consider robot moving in a room without obstacles. The robot is equipped with two sensors to measure distance between the robot and the walls, which allows the robot to measure the location of the robot (i.e., $x$ and $y$ positions) in the room. These sensors are not perfect, however the manufacturer provide us with the information that tells us how innacurate these sensors are.\n",
    "\n",
    "So, say the state of the robot is its $x$ and $y$ position in the room, and the control inputs are the velocity in each direction $v_x$ and $v_y$. The robot is initialized at $(x,y) = (0,0)$, and moves by applying constant control inputs $v_x = v_y = 1$ for 10 time steps. At each time step, after applying a control signal, the robot can take a measurement using the sensors to have an idea where the robot currently is. For the sake of simplicity, assume the sensors to directly return the measurement of $(x,y)$ location in the room.\n",
    "\n",
    "Given:\n",
    "\n",
    "$$\n",
    "A = \n",
    "\\begin{bmatrix}\n",
    "1 & 0 \\\\\n",
    "0 & 1\n",
    "\\end{bmatrix}\n",
    "$$\n",
    "\n",
    "$$\n",
    "B = \n",
    "\\begin{bmatrix}\n",
    "1 & 0 \\\\\n",
    "0 & 1\n",
    "\\end{bmatrix}\n",
    "$$\n",
    "\n",
    "$$\n",
    "Q = \n",
    "\\begin{bmatrix}\n",
    "0.3 & 0 \\\\\n",
    "0 & 0.3\n",
    "\\end{bmatrix}\n",
    "$$\n",
    "\n",
    "$$\n",
    "H = \n",
    "\\begin{bmatrix}\n",
    "1 & 0 \\\\\n",
    "0 & 1\n",
    "\\end{bmatrix}\n",
    "$$\n",
    "\n",
    "$$\n",
    "R = \n",
    "\\begin{bmatrix}\n",
    "0.75 & 0.0 \\\\\n",
    "0.0 & 0.6\n",
    "\\end{bmatrix}\n",
    "$$\n",
    "\n",
    "Use Kalman filter to have a better estimate of where the robot is."
   ]
  },
  {
   "cell_type": "markdown",
   "metadata": {},
   "source": [
    "**Understanding the problem**\n",
    "\n",
    "To understand the problem, let us plot the ideal trajectory and some possible measurements that we would get using the available sensors according to their specifications."
   ]
  },
  {
   "cell_type": "code",
   "execution_count": 2,
   "metadata": {},
   "outputs": [
    {
     "data": {
      "image/png": "[encoded data removed]",
      "text/plain": [
       "<Figure size 432x288 with 1 Axes>"
      ]
     },
     "metadata": {
      "needs_background": "light"
     },
     "output_type": "display_data"
    }
   ],
   "source": [
    "# state = [x_pos, y_pos]\n",
    "num_data = 10\n",
    "ground_truth_x = np.linspace(0, 10, num=num_data + 1)\n",
    "ground_truth_y = ground_truth_x.copy() # x = y\n",
    "\n",
    "# Simulate dynamics\n",
    "x_0, y_0 = 0, 0\n",
    "xs, ys = [0], [0]\n",
    "dynamics_noise_x_var = 0.3\n",
    "dynamics_noise_y_var = 0.3\n",
    "for _ in range(10):\n",
    "    v_x, v_y = 1.0, 1.0\n",
    "    noise_x = np.random.normal(loc=0.0, scale=dynamics_noise_x_var)\n",
    "    noise_y = np.random.normal(loc=0.0, scale=dynamics_noise_y_var)\n",
    "    new_x = xs[-1] + v_x + noise_x\n",
    "    new_y = ys[-1] + v_y + noise_y\n",
    "    xs.append(new_x)\n",
    "    ys.append(new_y)\n",
    "    \n",
    "# Simulate measurements\n",
    "measurement_noise_x_var = 0.75\n",
    "measurement_noise_y_var = 0.6\n",
    "noise_x = np.random.normal(loc=0.0, scale=measurement_noise_x_var, size=num_data-1)\n",
    "noise_y = np.random.normal(loc=0.0, scale=measurement_noise_y_var, size=num_data-1)\n",
    "measurement_x = np.linspace(1, 10, num=num_data-1) + noise_x\n",
    "measurement_y = np.linspace(1, 10, num=num_data-1) + noise_y\n",
    "\n",
    "# Compare ground truth and measurements\n",
    "plt.plot(ground_truth_x, ground_truth_y)\n",
    "plt.plot(measurement_x, measurement_y)\n",
    "plt.plot(xs, ys)\n",
    "plt.xlabel('x position')\n",
    "plt.ylabel('y position')\n",
    "plt.legend(['ground truth', 'measurements', 'dynamics'])\n",
    "plt.gca().set_aspect('equal', adjustable='box')\n",
    "plt.show()"
   ]
  },
  {
   "cell_type": "markdown",
   "metadata": {},
   "source": [
    "Can we do better?"
   ]
  },
  {
   "cell_type": "markdown",
   "metadata": {},
   "source": [
    "**Predict step**\n",
    "\n",
    "Recall the prediction step (i.e., getting $\\bar{bel}(\\mathbf{x}_{t}) \\sim \\mathcal{N}(\\mu_{t|t-1}, \\Sigma_{t|t-1}) $):\n",
    "1. $\\mu_{t|t-1} = A\\mu_{t-1|t-1} + B\\mathbf{u}_{t-1}$\n",
    "2. $\\Sigma_{t|t-1} = A\\Sigma_{t-1|t-1}A^T + Q$"
   ]
  },
  {
   "cell_type": "code",
   "execution_count": 3,
   "metadata": {},
   "outputs": [],
   "source": [
    "def predict(A, B, Q, mu_t, u_t, Sigma_t):\n",
    "    predicted_mu = A @ mu_t + B @ u_t\n",
    "    predicted_Sigma = A @ Sigma_t @ A.T + Q\n",
    "    return predicted_mu, predicted_Sigma"
   ]
  },
  {
   "cell_type": "markdown",
   "metadata": {},
   "source": [
    "**Update step**\n",
    "\n",
    "Recall the update step:\n",
    "1. Get measurement $\\mathbf{z}_{t}$\n",
    "2. Compute mean and covariance of the prediction residual $\\delta_{\\mu} = \\mathbf{z}_{t} - H\\mu_{t|t-1}$ and $\\delta_{\\Sigma} = H \\Sigma_{t|t-1} H^T + R$\n",
    "3. Compute Kalman gain $K_{t} = \\Sigma_{t|t-1} H^T \\delta_{\\Sigma}^{-1}$\n",
    "4. Compute mean and covariance of the belief $\\mu_{t | t} = \\mu_{t | t-1} + K\\delta_{\\mu}$ and $\\Sigma_{t | t} = \\Sigma_{t|t-1} - KH\\Sigma_{t|t-1}$"
   ]
  },
  {
   "cell_type": "code",
   "execution_count": 4,
   "metadata": {},
   "outputs": [],
   "source": [
    "def update(H, R, z, predicted_mu, predicted_Sigma):\n",
    "    residual_mean = z - H @ predicted_mu\n",
    "    residual_covariance = H @ predicted_Sigma @ H.T + R\n",
    "    kalman_gain = predicted_Sigma @ H.T @ np.linalg.inv(residual_covariance)\n",
    "    updated_mu = predicted_mu + kalman_gain @ residual_mean\n",
    "    updated_Sigma = predicted_Sigma - kalman_gain @ H @ predicted_Sigma\n",
    "    return updated_mu, updated_Sigma"
   ]
  },
  {
   "cell_type": "markdown",
   "metadata": {},
   "source": [
    "Let's run our Kalman filter!"
   ]
  },
  {
   "cell_type": "code",
   "execution_count": 5,
   "metadata": {},
   "outputs": [],
   "source": [
    "# Initialize the problem\n",
    "mu_0 = np.array([0, 0])\n",
    "Sigma_0 = np.array([[0.1, 0],\n",
    "                     [0, 0.1]]) # We're pretty certain with mu_0\n",
    "A = np.array([[1, 0],\n",
    "              [0, 1]])\n",
    "B = np.array([[1, 0],\n",
    "              [0, 1]])\n",
    "Q = np.array([[0.3, 0],\n",
    "              [0, 0.3]])\n",
    "H = np.array([[1, 0],\n",
    "              [0, 1]])\n",
    "R = np.array([[measurement_noise_x_var, 0],\n",
    "              [0, measurement_noise_y_var]])\n",
    "\n",
    "# Initialize empty lists for mus and measurements for plotting\n",
    "measurements = []\n",
    "filtered_mus = []\n",
    "\n",
    "# Run KF for each time step\n",
    "mu_current = mu_0.copy()\n",
    "Sigma_current = Sigma_0.copy()\n",
    "for i in range(num_data-1):\n",
    "    u_t = np.array([1, 1])\n",
    "    \n",
    "    # Predict step\n",
    "    predicted_mu, predicted_Sigma = predict(A, B, Q, \n",
    "                                            mu_current, u_t, \n",
    "                                            Sigma_current)\n",
    "    \n",
    "    # Get measurement (irl, get this from our sensor)\n",
    "    measurement_noise_x = np.random.normal(loc=0.0, scale=measurement_noise_x_var)\n",
    "    measurement_noise_y = np.random.normal(loc=0.0, scale=measurement_noise_y_var)\n",
    "    measurement_x_new = ground_truth_x[i+1] + measurement_noise_x\n",
    "    measurement_y_new = ground_truth_x[i+1] + measurement_noise_y\n",
    "    z = np.array([measurement_x_new, measurement_y_new])\n",
    "    \n",
    "    # The rest of update step\n",
    "    mu_current, Sigma_current = update(H, R, z, \n",
    "                                   predicted_mu, \n",
    "                                   predicted_Sigma)\n",
    "    \n",
    "    # Store measurements and mu_current so we can plot it later\n",
    "    measurements.append([measurement_x_new, measurement_y_new])\n",
    "    filtered_mus.append(mu_current)\n",
    "\n",
    "# Just for plotting purposes, convert the lists to array \n",
    "measurements = np.array(measurements)\n",
    "filtered_mus = np.array(filtered_mus) "
   ]
  },
  {
   "cell_type": "code",
   "execution_count": 6,
   "metadata": {},
   "outputs": [
    {
     "data": {
      "image/png": "[encoded data removed]",
      "text/plain": [
       "<Figure size 432x288 with 1 Axes>"
      ]
     },
     "metadata": {
      "needs_background": "light"
     },
     "output_type": "display_data"
    }
   ],
   "source": [
    "# Let's plot the results\n",
    "\n",
    "plt.plot(ground_truth_x, ground_truth_y)\n",
    "plt.plot(measurements[:,0], measurements[:,1])\n",
    "plt.plot(xs, ys)\n",
    "plt.plot(filtered_mus[:,0], filtered_mus[:,1])\n",
    "plt.xlabel('x position')\n",
    "plt.ylabel('y position')\n",
    "plt.legend(['ground truth', 'measurements', 'dynamics', 'KF'])\n",
    "plt.gca().set_aspect('equal', adjustable='box')\n",
    "plt.show()"
   ]
  },
  {
   "cell_type": "markdown",
   "metadata": {},
   "source": [
    "We can see that KF gives us the best estimation of the states!"
   ]
  },
  {
   "cell_type": "code",
   "execution_count": null,
   "metadata": {},
   "outputs": [],
   "source": []
  }
 ],
 "metadata": {
  "kernelspec": {
   "display_name": "Python 3",
   "language": "python",
   "name": "python3"
  },
  "language_info": {
   "codemirror_mode": {
    "name": "ipython",
    "version": 3
   },
   "file_extension": ".py",
   "mimetype": "text/x-python",
   "name": "python",
   "nbconvert_exporter": "python",
   "pygments_lexer": "ipython3",
   "version": "3.8.3"
  }
 },
 "nbformat": 4,
 "nbformat_minor": 4
}
